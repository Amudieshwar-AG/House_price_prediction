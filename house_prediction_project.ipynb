{
  "cells": [
    {
      "cell_type": "code",
      "execution_count": null,
      "metadata": {
        "colab": {
          "base_uri": "https://localhost:8080/",
          "height": 1000
        },
        "id": "Wmw8cpVelrjt",
        "outputId": "188e7dc2-33fb-47ef-d8aa-423a0808675e"
      },
      "outputs": [
        {
          "name": "stdout",
          "output_type": "stream",
          "text": [
            "\n",
            "Model Accuracy: 1.0\n",
            "\n",
            "Classification Report:\n",
            "               precision    recall  f1-score   support\n",
            "\n",
            "           0       1.00      1.00      1.00         1\n",
            "           1       1.00      1.00      1.00         1\n",
            "           2       1.00      1.00      1.00         1\n",
            "\n",
            "    accuracy                           1.00         3\n",
            "   macro avg       1.00      1.00      1.00         3\n",
            "weighted avg       1.00      1.00      1.00         3\n",
            "\n"
          ]
        },
        {
          "data": {
            "image/png": "[encoded data removed]",
            "text/plain": [
              "<Figure size 640x480 with 2 Axes>"
            ]
          },
          "metadata": {},
          "output_type": "display_data"
        },
        {
          "name": "stdout",
          "output_type": "stream",
          "text": [
            "\n",
            "--- Predicted House Prices for New Data ---\n",
            "\n",
            "   Area  Bedrooms  Bathrooms  Stories  Parking  Furnishing Predicted_Category  \\\n",
            "0  1600         3          2        2        1           1             Medium   \n",
            "1  1000         2          1        1        0           2                Low   \n",
            "2  2100         3          3        2        2           0               High   \n",
            "3   950         1          1        1        0           2                Low   \n",
            "4  1750         3          2        2        1           0               High   \n",
            "5  1300         2          2        2        1           1             Medium   \n",
            "6  2400         4          3        2        2           0               High   \n",
            "7   850         1          1        1        0           2                Low   \n",
            "8  1900         3          2        2        1           0               High   \n",
            "9  1200         2          1        1        1           1             Medium   \n",
            "\n",
            "       Approx_Price_Range  \n",
            "0          ₹50 – 70 Lakhs  \n",
            "1          ₹20 – 40 Lakhs  \n",
            "2  ₹80 Lakhs – ₹1.5 Crore  \n",
            "3          ₹20 – 40 Lakhs  \n",
            "4  ₹80 Lakhs – ₹1.5 Crore  \n",
            "5          ₹50 – 70 Lakhs  \n",
            "6  ₹80 Lakhs – ₹1.5 Crore  \n",
            "7          ₹20 – 40 Lakhs  \n",
            "8  ₹80 Lakhs – ₹1.5 Crore  \n",
            "9          ₹50 – 70 Lakhs  \n",
            "\n",
            "Predictions saved as 'predicted_house_prices.csv'\n"
          ]
        }
      ],
      "source": [
        "# ========================================================\n",
        "# HOUSE PRICE PREDICTION USING PROBABILISTIC REASONING\n",
        "# (NAIVE BAYES CLASSIFIER)\n",
        "# ========================================================\n",
        "\n",
        "# Step 1: Import Libraries\n",
        "import pandas as pd\n",
        "from sklearn.model_selection import train_test_split\n",
        "from sklearn.preprocessing import LabelEncoder\n",
        "from sklearn.naive_bayes import GaussianNB\n",
        "from sklearn.metrics import accuracy_score, classification_report, confusion_matrix\n",
        "import seaborn as sns\n",
        "import matplotlib.pyplot as plt\n",
        "\n",
        "# Step 2: Load Training Data\n",
        "train_data = pd.read_csv(\"house_data.csv\")\n",
        "\n",
        "# Step 3: Encode Categorical Columns\n",
        "le_furnish = LabelEncoder()\n",
        "le_price = LabelEncoder()\n",
        "train_data['Furnishing'] = le_furnish.fit_transform(train_data['Furnishing'])\n",
        "train_data['Price_Category'] = le_price.fit_transform(train_data['Price_Category'])\n",
        "\n",
        "# Step 4: Split Features and Target\n",
        "X = train_data[['Area', 'Bedrooms', 'Bathrooms', 'Stories', 'Parking', 'Furnishing']]\n",
        "y = train_data['Price_Category']\n",
        "\n",
        "# Step 5: Train-Test Split\n",
        "X_train, X_test, y_train, y_test = train_test_split(\n",
        "    X, y, test_size=0.3, random_state=42, stratify=y\n",
        ")\n",
        "\n",
        "# Step 6: Train the Naive Bayes Model\n",
        "model = GaussianNB()\n",
        "model.fit(X_train, y_train)\n",
        "\n",
        "# Step 7: Model Evaluation\n",
        "y_pred = model.predict(X_test)\n",
        "print(\"\\nModel Accuracy:\", round(accuracy_score(y_test, y_pred), 2))\n",
        "print(\"\\nClassification Report:\\n\", classification_report(y_test, y_pred, zero_division=1))\n",
        "\n",
        "# Step 8: Confusion Matrix Visualization\n",
        "cm = confusion_matrix(y_test, y_pred)\n",
        "sns.heatmap(cm, annot=True, fmt='d', cmap='Blues')\n",
        "plt.title(\"Confusion Matrix for House Price Prediction\")\n",
        "plt.xlabel(\"Predicted Category\")\n",
        "plt.ylabel(\"Actual Category\")\n",
        "plt.show()\n",
        "\n",
        "# Step 9: Define Approximate Price Ranges\n",
        "price_ranges = {\n",
        "    'Low': '₹20 – 40 Lakhs',\n",
        "    'Medium': '₹50 – 70 Lakhs',\n",
        "    'High': '₹80 Lakhs – ₹1.5 Crore'\n",
        "}\n",
        "\n",
        "# Step 10: Predict for New Data (test file)\n",
        "new_data = pd.read_csv(\"new_houses.csv\")\n",
        "new_data['Furnishing'] = le_furnish.transform(new_data['Furnishing'])\n",
        "predictions = model.predict(new_data)\n",
        "\n",
        "# Step 11: Map Back the Labels and Price Ranges\n",
        "new_data['Predicted_Category'] = le_price.inverse_transform(predictions)\n",
        "new_data['Approx_Price_Range'] = new_data['Predicted_Category'].map(price_ranges)\n",
        "\n",
        "# Step 12: Display Final Predicted Results\n",
        "print(\"\\n--- Predicted House Prices for New Data ---\\n\")\n",
        "print(new_data[['Area', 'Bedrooms', 'Bathrooms', 'Stories', 'Parking',\n",
        "                'Furnishing', 'Predicted_Category', 'Approx_Price_Range']])\n",
        "\n",
        "# Optional: Save predictions to a new file (for submission proof)\n",
        "new_data.to_csv(\"predicted_house_prices.csv\", index=False)\n",
        "print(\"\\nPredictions saved as 'predicted_house_prices.csv'\")\n"
      ]
    }
  ],
  "metadata": {
    "colab": {
      "provenance": []
    },
    "kernelspec": {
      "display_name": "Python 3",
      "name": "python3"
    },
    "language_info": {
      "name": "python"
    }
  },
  "nbformat": 4,
  "nbformat_minor": 0
}
